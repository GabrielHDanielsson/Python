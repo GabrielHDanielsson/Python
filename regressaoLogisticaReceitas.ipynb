{
  "nbformat": 4,
  "nbformat_minor": 0,
  "metadata": {
    "colab": {
      "name": "regressaoLogisticaReceitas.ipynb",
      "provenance": [],
      "collapsed_sections": []
    },
    "kernelspec": {
      "name": "python3",
      "display_name": "Python 3"
    },
    "language_info": {
      "name": "python"
    }
  },
  "cells": [
    {
      "cell_type": "code",
      "execution_count": 1,
      "metadata": {
        "id": "NjyPXQt7aMp4"
      },
      "outputs": [],
      "source": [
        "#dataset --> https://www.kaggle.com/datasets/hugodarwood/epirecipes "
      ]
    },
    {
      "cell_type": "code",
      "source": [
        "#bibliotecas necessarias\n",
        "import pandas as pd\n",
        "from sklearn.linear_model import LogisticRegression\n",
        "from sklearn.model_selection import train_test_split\n",
        "from sklearn import metrics\n",
        "import matplotlib.pyplot as plt\n",
        "import seaborn as sns"
      ],
      "metadata": {
        "id": "mjiT6V3zaVOS"
      },
      "execution_count": 2,
      "outputs": []
    },
    {
      "cell_type": "code",
      "source": [
        "receitas_dataset = pd.read_csv(\"/content/receitas.csv\", sep = \",\", encoding = \"ISO-8859-1\")"
      ],
      "metadata": {
        "id": "sYM_ln6paXpN"
      },
      "execution_count": 3,
      "outputs": []
    },
    {
      "cell_type": "code",
      "source": [
        "receitas_dataset.head()"
      ],
      "metadata": {
        "colab": {
          "base_uri": "https://localhost:8080/",
          "height": 664
        },
        "id": "MNhIC9A6oDIi",
        "outputId": "d5038f9a-16f4-4fbe-8d74-57ca3517acd4"
      },
      "execution_count": 4,
      "outputs": [
        {
          "output_type": "execute_result",
          "data": {
            "text/plain": [
              "                                         title  rating  calories  protein  \\\n",
              "0              Lentil, Apple, and Turkey Wrap    2.500     426.0     30.0   \n",
              "1  Boudin Blanc Terrine with Red Onion Confit    4.375     403.0     18.0   \n",
              "2                Potato and Fennel Soup Hodge    3.750     165.0      6.0   \n",
              "3             Mahi-Mahi in Tomato Olive Sauce    5.000       NaN      NaN   \n",
              "4                    Spinach Noodle Casserole    3.125     547.0     20.0   \n",
              "\n",
              "    fat  sodium  #cakeweek  #wasteless  22-minute meals  3-ingredient recipes  \\\n",
              "0   7.0   559.0        0.0         0.0              0.0                   0.0   \n",
              "1  23.0  1439.0        0.0         0.0              0.0                   0.0   \n",
              "2   7.0   165.0        0.0         0.0              0.0                   0.0   \n",
              "3   NaN     NaN        0.0         0.0              0.0                   0.0   \n",
              "4  32.0   452.0        0.0         0.0              0.0                   0.0   \n",
              "\n",
              "   ...  yellow squash  yogurt  yonkers  yuca  zucchini  cookbooks  leftovers  \\\n",
              "0  ...            0.0     0.0      0.0   0.0       0.0        0.0        0.0   \n",
              "1  ...            0.0     0.0      0.0   0.0       0.0        0.0        0.0   \n",
              "2  ...            0.0     0.0      0.0   0.0       0.0        0.0        0.0   \n",
              "3  ...            0.0     0.0      0.0   0.0       0.0        0.0        0.0   \n",
              "4  ...            0.0     0.0      0.0   0.0       0.0        0.0        0.0   \n",
              "\n",
              "   snack  snack week  turkey  \n",
              "0    0.0         0.0     1.0  \n",
              "1    0.0         0.0     0.0  \n",
              "2    0.0         0.0     0.0  \n",
              "3    0.0         0.0     0.0  \n",
              "4    0.0         0.0     0.0  \n",
              "\n",
              "[5 rows x 680 columns]"
            ],
            "text/html": [
              "\n",
              "  <div id=\"df-45a330e5-9081-41c5-8b10-a1ad1c545495\">\n",
              "    <div class=\"colab-df-container\">\n",
              "      <div>\n",
              "<style scoped>\n",
              "    .dataframe tbody tr th:only-of-type {\n",
              "        vertical-align: middle;\n",
              "    }\n",
              "\n",
              "    .dataframe tbody tr th {\n",
              "        vertical-align: top;\n",
              "    }\n",
              "\n",
              "    .dataframe thead th {\n",
              "        text-align: right;\n",
              "    }\n",
              "</style>\n",
              "<table border=\"1\" class=\"dataframe\">\n",
              "  <thead>\n",
              "    <tr style=\"text-align: right;\">\n",
              "      <th></th>\n",
              "      <th>title</th>\n",
              "      <th>rating</th>\n",
              "      <th>calories</th>\n",
              "      <th>protein</th>\n",
              "      <th>fat</th>\n",
              "      <th>sodium</th>\n",
              "      <th>#cakeweek</th>\n",
              "      <th>#wasteless</th>\n",
              "      <th>22-minute meals</th>\n",
              "      <th>3-ingredient recipes</th>\n",
              "      <th>...</th>\n",
              "      <th>yellow squash</th>\n",
              "      <th>yogurt</th>\n",
              "      <th>yonkers</th>\n",
              "      <th>yuca</th>\n",
              "      <th>zucchini</th>\n",
              "      <th>cookbooks</th>\n",
              "      <th>leftovers</th>\n",
              "      <th>snack</th>\n",
              "      <th>snack week</th>\n",
              "      <th>turkey</th>\n",
              "    </tr>\n",
              "  </thead>\n",
              "  <tbody>\n",
              "    <tr>\n",
              "      <th>0</th>\n",
              "      <td>Lentil, Apple, and Turkey Wrap</td>\n",
              "      <td>2.500</td>\n",
              "      <td>426.0</td>\n",
              "      <td>30.0</td>\n",
              "      <td>7.0</td>\n",
              "      <td>559.0</td>\n",
              "      <td>0.0</td>\n",
              "      <td>0.0</td>\n",
              "      <td>0.0</td>\n",
              "      <td>0.0</td>\n",
              "      <td>...</td>\n",
              "      <td>0.0</td>\n",
              "      <td>0.0</td>\n",
              "      <td>0.0</td>\n",
              "      <td>0.0</td>\n",
              "      <td>0.0</td>\n",
              "      <td>0.0</td>\n",
              "      <td>0.0</td>\n",
              "      <td>0.0</td>\n",
              "      <td>0.0</td>\n",
              "      <td>1.0</td>\n",
              "    </tr>\n",
              "    <tr>\n",
              "      <th>1</th>\n",
              "      <td>Boudin Blanc Terrine with Red Onion Confit</td>\n",
              "      <td>4.375</td>\n",
              "      <td>403.0</td>\n",
              "      <td>18.0</td>\n",
              "      <td>23.0</td>\n",
              "      <td>1439.0</td>\n",
              "      <td>0.0</td>\n",
              "      <td>0.0</td>\n",
              "      <td>0.0</td>\n",
              "      <td>0.0</td>\n",
              "      <td>...</td>\n",
              "      <td>0.0</td>\n",
              "      <td>0.0</td>\n",
              "      <td>0.0</td>\n",
              "      <td>0.0</td>\n",
              "      <td>0.0</td>\n",
              "      <td>0.0</td>\n",
              "      <td>0.0</td>\n",
              "      <td>0.0</td>\n",
              "      <td>0.0</td>\n",
              "      <td>0.0</td>\n",
              "    </tr>\n",
              "    <tr>\n",
              "      <th>2</th>\n",
              "      <td>Potato and Fennel Soup Hodge</td>\n",
              "      <td>3.750</td>\n",
              "      <td>165.0</td>\n",
              "      <td>6.0</td>\n",
              "      <td>7.0</td>\n",
              "      <td>165.0</td>\n",
              "      <td>0.0</td>\n",
              "      <td>0.0</td>\n",
              "      <td>0.0</td>\n",
              "      <td>0.0</td>\n",
              "      <td>...</td>\n",
              "      <td>0.0</td>\n",
              "      <td>0.0</td>\n",
              "      <td>0.0</td>\n",
              "      <td>0.0</td>\n",
              "      <td>0.0</td>\n",
              "      <td>0.0</td>\n",
              "      <td>0.0</td>\n",
              "      <td>0.0</td>\n",
              "      <td>0.0</td>\n",
              "      <td>0.0</td>\n",
              "    </tr>\n",
              "    <tr>\n",
              "      <th>3</th>\n",
              "      <td>Mahi-Mahi in Tomato Olive Sauce</td>\n",
              "      <td>5.000</td>\n",
              "      <td>NaN</td>\n",
              "      <td>NaN</td>\n",
              "      <td>NaN</td>\n",
              "      <td>NaN</td>\n",
              "      <td>0.0</td>\n",
              "      <td>0.0</td>\n",
              "      <td>0.0</td>\n",
              "      <td>0.0</td>\n",
              "      <td>...</td>\n",
              "      <td>0.0</td>\n",
              "      <td>0.0</td>\n",
              "      <td>0.0</td>\n",
              "      <td>0.0</td>\n",
              "      <td>0.0</td>\n",
              "      <td>0.0</td>\n",
              "      <td>0.0</td>\n",
              "      <td>0.0</td>\n",
              "      <td>0.0</td>\n",
              "      <td>0.0</td>\n",
              "    </tr>\n",
              "    <tr>\n",
              "      <th>4</th>\n",
              "      <td>Spinach Noodle Casserole</td>\n",
              "      <td>3.125</td>\n",
              "      <td>547.0</td>\n",
              "      <td>20.0</td>\n",
              "      <td>32.0</td>\n",
              "      <td>452.0</td>\n",
              "      <td>0.0</td>\n",
              "      <td>0.0</td>\n",
              "      <td>0.0</td>\n",
              "      <td>0.0</td>\n",
              "      <td>...</td>\n",
              "      <td>0.0</td>\n",
              "      <td>0.0</td>\n",
              "      <td>0.0</td>\n",
              "      <td>0.0</td>\n",
              "      <td>0.0</td>\n",
              "      <td>0.0</td>\n",
              "      <td>0.0</td>\n",
              "      <td>0.0</td>\n",
              "      <td>0.0</td>\n",
              "      <td>0.0</td>\n",
              "    </tr>\n",
              "  </tbody>\n",
              "</table>\n",
              "<p>5 rows × 680 columns</p>\n",
              "</div>\n",
              "      <button class=\"colab-df-convert\" onclick=\"convertToInteractive('df-45a330e5-9081-41c5-8b10-a1ad1c545495')\"\n",
              "              title=\"Convert this dataframe to an interactive table.\"\n",
              "              style=\"display:none;\">\n",
              "        \n",
              "  <svg xmlns=\"http://www.w3.org/2000/svg\" height=\"24px\"viewBox=\"0 0 24 24\"\n",
              "       width=\"24px\">\n",
              "    <path d=\"M0 0h24v24H0V0z\" fill=\"none\"/>\n",
              "    <path d=\"M18.56 5.44l.94 2.06.94-2.06 2.06-.94-2.06-.94-.94-2.06-.94 2.06-2.06.94zm-11 1L8.5 8.5l.94-2.06 2.06-.94-2.06-.94L8.5 2.5l-.94 2.06-2.06.94zm10 10l.94 2.06.94-2.06 2.06-.94-2.06-.94-.94-2.06-.94 2.06-2.06.94z\"/><path d=\"M17.41 7.96l-1.37-1.37c-.4-.4-.92-.59-1.43-.59-.52 0-1.04.2-1.43.59L10.3 9.45l-7.72 7.72c-.78.78-.78 2.05 0 2.83L4 21.41c.39.39.9.59 1.41.59.51 0 1.02-.2 1.41-.59l7.78-7.78 2.81-2.81c.8-.78.8-2.07 0-2.86zM5.41 20L4 18.59l7.72-7.72 1.47 1.35L5.41 20z\"/>\n",
              "  </svg>\n",
              "      </button>\n",
              "      \n",
              "  <style>\n",
              "    .colab-df-container {\n",
              "      display:flex;\n",
              "      flex-wrap:wrap;\n",
              "      gap: 12px;\n",
              "    }\n",
              "\n",
              "    .colab-df-convert {\n",
              "      background-color: #E8F0FE;\n",
              "      border: none;\n",
              "      border-radius: 50%;\n",
              "      cursor: pointer;\n",
              "      display: none;\n",
              "      fill: #1967D2;\n",
              "      height: 32px;\n",
              "      padding: 0 0 0 0;\n",
              "      width: 32px;\n",
              "    }\n",
              "\n",
              "    .colab-df-convert:hover {\n",
              "      background-color: #E2EBFA;\n",
              "      box-shadow: 0px 1px 2px rgba(60, 64, 67, 0.3), 0px 1px 3px 1px rgba(60, 64, 67, 0.15);\n",
              "      fill: #174EA6;\n",
              "    }\n",
              "\n",
              "    [theme=dark] .colab-df-convert {\n",
              "      background-color: #3B4455;\n",
              "      fill: #D2E3FC;\n",
              "    }\n",
              "\n",
              "    [theme=dark] .colab-df-convert:hover {\n",
              "      background-color: #434B5C;\n",
              "      box-shadow: 0px 1px 3px 1px rgba(0, 0, 0, 0.15);\n",
              "      filter: drop-shadow(0px 1px 2px rgba(0, 0, 0, 0.3));\n",
              "      fill: #FFFFFF;\n",
              "    }\n",
              "  </style>\n",
              "\n",
              "      <script>\n",
              "        const buttonEl =\n",
              "          document.querySelector('#df-45a330e5-9081-41c5-8b10-a1ad1c545495 button.colab-df-convert');\n",
              "        buttonEl.style.display =\n",
              "          google.colab.kernel.accessAllowed ? 'block' : 'none';\n",
              "\n",
              "        async function convertToInteractive(key) {\n",
              "          const element = document.querySelector('#df-45a330e5-9081-41c5-8b10-a1ad1c545495');\n",
              "          const dataTable =\n",
              "            await google.colab.kernel.invokeFunction('convertToInteractive',\n",
              "                                                     [key], {});\n",
              "          if (!dataTable) return;\n",
              "\n",
              "          const docLinkHtml = 'Like what you see? Visit the ' +\n",
              "            '<a target=\"_blank\" href=https://colab.research.google.com/notebooks/data_table.ipynb>data table notebook</a>'\n",
              "            + ' to learn more about interactive tables.';\n",
              "          element.innerHTML = '';\n",
              "          dataTable['output_type'] = 'display_data';\n",
              "          await google.colab.output.renderOutput(dataTable, element);\n",
              "          const docLink = document.createElement('div');\n",
              "          docLink.innerHTML = docLinkHtml;\n",
              "          element.appendChild(docLink);\n",
              "        }\n",
              "      </script>\n",
              "    </div>\n",
              "  </div>\n",
              "  "
            ]
          },
          "metadata": {},
          "execution_count": 4
        }
      ]
    },
    {
      "cell_type": "code",
      "source": [
        "receitas_dataset.info()"
      ],
      "metadata": {
        "colab": {
          "base_uri": "https://localhost:8080/"
        },
        "id": "XfazCaQ4oMOD",
        "outputId": "d5a60a58-dcde-4756-82d7-9c37e86e940a"
      },
      "execution_count": 5,
      "outputs": [
        {
          "output_type": "stream",
          "name": "stdout",
          "text": [
            "<class 'pandas.core.frame.DataFrame'>\n",
            "RangeIndex: 20052 entries, 0 to 20051\n",
            "Columns: 680 entries, title to turkey\n",
            "dtypes: float64(679), object(1)\n",
            "memory usage: 104.0+ MB\n"
          ]
        }
      ]
    },
    {
      "cell_type": "code",
      "source": [
        "receitas_dataset.describe()"
      ],
      "metadata": {
        "colab": {
          "base_uri": "https://localhost:8080/",
          "height": 428
        },
        "id": "fkfi6pR1o5n6",
        "outputId": "abcf2f32-d958-42e9-ace5-bd696d331937"
      },
      "execution_count": 6,
      "outputs": [
        {
          "output_type": "execute_result",
          "data": {
            "text/plain": [
              "             rating      calories        protein           fat        sodium  \\\n",
              "count  20052.000000  1.593500e+04   15890.000000  1.586900e+04  1.593300e+04   \n",
              "mean       3.714467  6.322958e+03     100.160793  3.468775e+02  6.225975e+03   \n",
              "std        1.340829  3.590460e+05    3840.318527  2.045611e+04  3.333182e+05   \n",
              "min        0.000000  0.000000e+00       0.000000  0.000000e+00  0.000000e+00   \n",
              "25%        3.750000  1.980000e+02       3.000000  7.000000e+00  8.000000e+01   \n",
              "50%        4.375000  3.310000e+02       8.000000  1.700000e+01  2.940000e+02   \n",
              "75%        4.375000  5.860000e+02      27.000000  3.300000e+01  7.110000e+02   \n",
              "max        5.000000  3.011122e+07  236489.000000  1.722763e+06  2.767511e+07   \n",
              "\n",
              "          #cakeweek    #wasteless  22-minute meals  3-ingredient recipes  \\\n",
              "count  20052.000000  20052.000000     20052.000000          20052.000000   \n",
              "mean       0.000299      0.000050         0.000848              0.001346   \n",
              "std        0.017296      0.007062         0.029105              0.036671   \n",
              "min        0.000000      0.000000         0.000000              0.000000   \n",
              "25%        0.000000      0.000000         0.000000              0.000000   \n",
              "50%        0.000000      0.000000         0.000000              0.000000   \n",
              "75%        0.000000      0.000000         0.000000              0.000000   \n",
              "max        1.000000      1.000000         1.000000              1.000000   \n",
              "\n",
              "       30 days of groceries  ...  yellow squash        yogurt       yonkers  \\\n",
              "count          20052.000000  ...   20052.000000  20052.000000  20052.000000   \n",
              "mean               0.000349  ...       0.001247      0.026332      0.000050   \n",
              "std                0.018681  ...       0.035288      0.160123      0.007062   \n",
              "min                0.000000  ...       0.000000      0.000000      0.000000   \n",
              "25%                0.000000  ...       0.000000      0.000000      0.000000   \n",
              "50%                0.000000  ...       0.000000      0.000000      0.000000   \n",
              "75%                0.000000  ...       0.000000      0.000000      0.000000   \n",
              "max                1.000000  ...       1.000000      1.000000      1.000000   \n",
              "\n",
              "               yuca      zucchini     cookbooks     leftovers         snack  \\\n",
              "count  20052.000000  20052.000000  20052.000000  20052.000000  20052.000000   \n",
              "mean       0.000299      0.014861      0.000150      0.000349      0.001396   \n",
              "std        0.017296      0.121001      0.012231      0.018681      0.037343   \n",
              "min        0.000000      0.000000      0.000000      0.000000      0.000000   \n",
              "25%        0.000000      0.000000      0.000000      0.000000      0.000000   \n",
              "50%        0.000000      0.000000      0.000000      0.000000      0.000000   \n",
              "75%        0.000000      0.000000      0.000000      0.000000      0.000000   \n",
              "max        1.000000      1.000000      1.000000      1.000000      1.000000   \n",
              "\n",
              "         snack week        turkey  \n",
              "count  20052.000000  20052.000000  \n",
              "mean       0.000948      0.022741  \n",
              "std        0.030768      0.149080  \n",
              "min        0.000000      0.000000  \n",
              "25%        0.000000      0.000000  \n",
              "50%        0.000000      0.000000  \n",
              "75%        0.000000      0.000000  \n",
              "max        1.000000      1.000000  \n",
              "\n",
              "[8 rows x 679 columns]"
            ],
            "text/html": [
              "\n",
              "  <div id=\"df-a614317a-8153-4f5d-b3ea-7a1bbc70f178\">\n",
              "    <div class=\"colab-df-container\">\n",
              "      <div>\n",
              "<style scoped>\n",
              "    .dataframe tbody tr th:only-of-type {\n",
              "        vertical-align: middle;\n",
              "    }\n",
              "\n",
              "    .dataframe tbody tr th {\n",
              "        vertical-align: top;\n",
              "    }\n",
              "\n",
              "    .dataframe thead th {\n",
              "        text-align: right;\n",
              "    }\n",
              "</style>\n",
              "<table border=\"1\" class=\"dataframe\">\n",
              "  <thead>\n",
              "    <tr style=\"text-align: right;\">\n",
              "      <th></th>\n",
              "      <th>rating</th>\n",
              "      <th>calories</th>\n",
              "      <th>protein</th>\n",
              "      <th>fat</th>\n",
              "      <th>sodium</th>\n",
              "      <th>#cakeweek</th>\n",
              "      <th>#wasteless</th>\n",
              "      <th>22-minute meals</th>\n",
              "      <th>3-ingredient recipes</th>\n",
              "      <th>30 days of groceries</th>\n",
              "      <th>...</th>\n",
              "      <th>yellow squash</th>\n",
              "      <th>yogurt</th>\n",
              "      <th>yonkers</th>\n",
              "      <th>yuca</th>\n",
              "      <th>zucchini</th>\n",
              "      <th>cookbooks</th>\n",
              "      <th>leftovers</th>\n",
              "      <th>snack</th>\n",
              "      <th>snack week</th>\n",
              "      <th>turkey</th>\n",
              "    </tr>\n",
              "  </thead>\n",
              "  <tbody>\n",
              "    <tr>\n",
              "      <th>count</th>\n",
              "      <td>20052.000000</td>\n",
              "      <td>1.593500e+04</td>\n",
              "      <td>15890.000000</td>\n",
              "      <td>1.586900e+04</td>\n",
              "      <td>1.593300e+04</td>\n",
              "      <td>20052.000000</td>\n",
              "      <td>20052.000000</td>\n",
              "      <td>20052.000000</td>\n",
              "      <td>20052.000000</td>\n",
              "      <td>20052.000000</td>\n",
              "      <td>...</td>\n",
              "      <td>20052.000000</td>\n",
              "      <td>20052.000000</td>\n",
              "      <td>20052.000000</td>\n",
              "      <td>20052.000000</td>\n",
              "      <td>20052.000000</td>\n",
              "      <td>20052.000000</td>\n",
              "      <td>20052.000000</td>\n",
              "      <td>20052.000000</td>\n",
              "      <td>20052.000000</td>\n",
              "      <td>20052.000000</td>\n",
              "    </tr>\n",
              "    <tr>\n",
              "      <th>mean</th>\n",
              "      <td>3.714467</td>\n",
              "      <td>6.322958e+03</td>\n",
              "      <td>100.160793</td>\n",
              "      <td>3.468775e+02</td>\n",
              "      <td>6.225975e+03</td>\n",
              "      <td>0.000299</td>\n",
              "      <td>0.000050</td>\n",
              "      <td>0.000848</td>\n",
              "      <td>0.001346</td>\n",
              "      <td>0.000349</td>\n",
              "      <td>...</td>\n",
              "      <td>0.001247</td>\n",
              "      <td>0.026332</td>\n",
              "      <td>0.000050</td>\n",
              "      <td>0.000299</td>\n",
              "      <td>0.014861</td>\n",
              "      <td>0.000150</td>\n",
              "      <td>0.000349</td>\n",
              "      <td>0.001396</td>\n",
              "      <td>0.000948</td>\n",
              "      <td>0.022741</td>\n",
              "    </tr>\n",
              "    <tr>\n",
              "      <th>std</th>\n",
              "      <td>1.340829</td>\n",
              "      <td>3.590460e+05</td>\n",
              "      <td>3840.318527</td>\n",
              "      <td>2.045611e+04</td>\n",
              "      <td>3.333182e+05</td>\n",
              "      <td>0.017296</td>\n",
              "      <td>0.007062</td>\n",
              "      <td>0.029105</td>\n",
              "      <td>0.036671</td>\n",
              "      <td>0.018681</td>\n",
              "      <td>...</td>\n",
              "      <td>0.035288</td>\n",
              "      <td>0.160123</td>\n",
              "      <td>0.007062</td>\n",
              "      <td>0.017296</td>\n",
              "      <td>0.121001</td>\n",
              "      <td>0.012231</td>\n",
              "      <td>0.018681</td>\n",
              "      <td>0.037343</td>\n",
              "      <td>0.030768</td>\n",
              "      <td>0.149080</td>\n",
              "    </tr>\n",
              "    <tr>\n",
              "      <th>min</th>\n",
              "      <td>0.000000</td>\n",
              "      <td>0.000000e+00</td>\n",
              "      <td>0.000000</td>\n",
              "      <td>0.000000e+00</td>\n",
              "      <td>0.000000e+00</td>\n",
              "      <td>0.000000</td>\n",
              "      <td>0.000000</td>\n",
              "      <td>0.000000</td>\n",
              "      <td>0.000000</td>\n",
              "      <td>0.000000</td>\n",
              "      <td>...</td>\n",
              "      <td>0.000000</td>\n",
              "      <td>0.000000</td>\n",
              "      <td>0.000000</td>\n",
              "      <td>0.000000</td>\n",
              "      <td>0.000000</td>\n",
              "      <td>0.000000</td>\n",
              "      <td>0.000000</td>\n",
              "      <td>0.000000</td>\n",
              "      <td>0.000000</td>\n",
              "      <td>0.000000</td>\n",
              "    </tr>\n",
              "    <tr>\n",
              "      <th>25%</th>\n",
              "      <td>3.750000</td>\n",
              "      <td>1.980000e+02</td>\n",
              "      <td>3.000000</td>\n",
              "      <td>7.000000e+00</td>\n",
              "      <td>8.000000e+01</td>\n",
              "      <td>0.000000</td>\n",
              "      <td>0.000000</td>\n",
              "      <td>0.000000</td>\n",
              "      <td>0.000000</td>\n",
              "      <td>0.000000</td>\n",
              "      <td>...</td>\n",
              "      <td>0.000000</td>\n",
              "      <td>0.000000</td>\n",
              "      <td>0.000000</td>\n",
              "      <td>0.000000</td>\n",
              "      <td>0.000000</td>\n",
              "      <td>0.000000</td>\n",
              "      <td>0.000000</td>\n",
              "      <td>0.000000</td>\n",
              "      <td>0.000000</td>\n",
              "      <td>0.000000</td>\n",
              "    </tr>\n",
              "    <tr>\n",
              "      <th>50%</th>\n",
              "      <td>4.375000</td>\n",
              "      <td>3.310000e+02</td>\n",
              "      <td>8.000000</td>\n",
              "      <td>1.700000e+01</td>\n",
              "      <td>2.940000e+02</td>\n",
              "      <td>0.000000</td>\n",
              "      <td>0.000000</td>\n",
              "      <td>0.000000</td>\n",
              "      <td>0.000000</td>\n",
              "      <td>0.000000</td>\n",
              "      <td>...</td>\n",
              "      <td>0.000000</td>\n",
              "      <td>0.000000</td>\n",
              "      <td>0.000000</td>\n",
              "      <td>0.000000</td>\n",
              "      <td>0.000000</td>\n",
              "      <td>0.000000</td>\n",
              "      <td>0.000000</td>\n",
              "      <td>0.000000</td>\n",
              "      <td>0.000000</td>\n",
              "      <td>0.000000</td>\n",
              "    </tr>\n",
              "    <tr>\n",
              "      <th>75%</th>\n",
              "      <td>4.375000</td>\n",
              "      <td>5.860000e+02</td>\n",
              "      <td>27.000000</td>\n",
              "      <td>3.300000e+01</td>\n",
              "      <td>7.110000e+02</td>\n",
              "      <td>0.000000</td>\n",
              "      <td>0.000000</td>\n",
              "      <td>0.000000</td>\n",
              "      <td>0.000000</td>\n",
              "      <td>0.000000</td>\n",
              "      <td>...</td>\n",
              "      <td>0.000000</td>\n",
              "      <td>0.000000</td>\n",
              "      <td>0.000000</td>\n",
              "      <td>0.000000</td>\n",
              "      <td>0.000000</td>\n",
              "      <td>0.000000</td>\n",
              "      <td>0.000000</td>\n",
              "      <td>0.000000</td>\n",
              "      <td>0.000000</td>\n",
              "      <td>0.000000</td>\n",
              "    </tr>\n",
              "    <tr>\n",
              "      <th>max</th>\n",
              "      <td>5.000000</td>\n",
              "      <td>3.011122e+07</td>\n",
              "      <td>236489.000000</td>\n",
              "      <td>1.722763e+06</td>\n",
              "      <td>2.767511e+07</td>\n",
              "      <td>1.000000</td>\n",
              "      <td>1.000000</td>\n",
              "      <td>1.000000</td>\n",
              "      <td>1.000000</td>\n",
              "      <td>1.000000</td>\n",
              "      <td>...</td>\n",
              "      <td>1.000000</td>\n",
              "      <td>1.000000</td>\n",
              "      <td>1.000000</td>\n",
              "      <td>1.000000</td>\n",
              "      <td>1.000000</td>\n",
              "      <td>1.000000</td>\n",
              "      <td>1.000000</td>\n",
              "      <td>1.000000</td>\n",
              "      <td>1.000000</td>\n",
              "      <td>1.000000</td>\n",
              "    </tr>\n",
              "  </tbody>\n",
              "</table>\n",
              "<p>8 rows × 679 columns</p>\n",
              "</div>\n",
              "      <button class=\"colab-df-convert\" onclick=\"convertToInteractive('df-a614317a-8153-4f5d-b3ea-7a1bbc70f178')\"\n",
              "              title=\"Convert this dataframe to an interactive table.\"\n",
              "              style=\"display:none;\">\n",
              "        \n",
              "  <svg xmlns=\"http://www.w3.org/2000/svg\" height=\"24px\"viewBox=\"0 0 24 24\"\n",
              "       width=\"24px\">\n",
              "    <path d=\"M0 0h24v24H0V0z\" fill=\"none\"/>\n",
              "    <path d=\"M18.56 5.44l.94 2.06.94-2.06 2.06-.94-2.06-.94-.94-2.06-.94 2.06-2.06.94zm-11 1L8.5 8.5l.94-2.06 2.06-.94-2.06-.94L8.5 2.5l-.94 2.06-2.06.94zm10 10l.94 2.06.94-2.06 2.06-.94-2.06-.94-.94-2.06-.94 2.06-2.06.94z\"/><path d=\"M17.41 7.96l-1.37-1.37c-.4-.4-.92-.59-1.43-.59-.52 0-1.04.2-1.43.59L10.3 9.45l-7.72 7.72c-.78.78-.78 2.05 0 2.83L4 21.41c.39.39.9.59 1.41.59.51 0 1.02-.2 1.41-.59l7.78-7.78 2.81-2.81c.8-.78.8-2.07 0-2.86zM5.41 20L4 18.59l7.72-7.72 1.47 1.35L5.41 20z\"/>\n",
              "  </svg>\n",
              "      </button>\n",
              "      \n",
              "  <style>\n",
              "    .colab-df-container {\n",
              "      display:flex;\n",
              "      flex-wrap:wrap;\n",
              "      gap: 12px;\n",
              "    }\n",
              "\n",
              "    .colab-df-convert {\n",
              "      background-color: #E8F0FE;\n",
              "      border: none;\n",
              "      border-radius: 50%;\n",
              "      cursor: pointer;\n",
              "      display: none;\n",
              "      fill: #1967D2;\n",
              "      height: 32px;\n",
              "      padding: 0 0 0 0;\n",
              "      width: 32px;\n",
              "    }\n",
              "\n",
              "    .colab-df-convert:hover {\n",
              "      background-color: #E2EBFA;\n",
              "      box-shadow: 0px 1px 2px rgba(60, 64, 67, 0.3), 0px 1px 3px 1px rgba(60, 64, 67, 0.15);\n",
              "      fill: #174EA6;\n",
              "    }\n",
              "\n",
              "    [theme=dark] .colab-df-convert {\n",
              "      background-color: #3B4455;\n",
              "      fill: #D2E3FC;\n",
              "    }\n",
              "\n",
              "    [theme=dark] .colab-df-convert:hover {\n",
              "      background-color: #434B5C;\n",
              "      box-shadow: 0px 1px 3px 1px rgba(0, 0, 0, 0.15);\n",
              "      filter: drop-shadow(0px 1px 2px rgba(0, 0, 0, 0.3));\n",
              "      fill: #FFFFFF;\n",
              "    }\n",
              "  </style>\n",
              "\n",
              "      <script>\n",
              "        const buttonEl =\n",
              "          document.querySelector('#df-a614317a-8153-4f5d-b3ea-7a1bbc70f178 button.colab-df-convert');\n",
              "        buttonEl.style.display =\n",
              "          google.colab.kernel.accessAllowed ? 'block' : 'none';\n",
              "\n",
              "        async function convertToInteractive(key) {\n",
              "          const element = document.querySelector('#df-a614317a-8153-4f5d-b3ea-7a1bbc70f178');\n",
              "          const dataTable =\n",
              "            await google.colab.kernel.invokeFunction('convertToInteractive',\n",
              "                                                     [key], {});\n",
              "          if (!dataTable) return;\n",
              "\n",
              "          const docLinkHtml = 'Like what you see? Visit the ' +\n",
              "            '<a target=\"_blank\" href=https://colab.research.google.com/notebooks/data_table.ipynb>data table notebook</a>'\n",
              "            + ' to learn more about interactive tables.';\n",
              "          element.innerHTML = '';\n",
              "          dataTable['output_type'] = 'display_data';\n",
              "          await google.colab.output.renderOutput(dataTable, element);\n",
              "          const docLink = document.createElement('div');\n",
              "          docLink.innerHTML = docLinkHtml;\n",
              "          element.appendChild(docLink);\n",
              "        }\n",
              "      </script>\n",
              "    </div>\n",
              "  </div>\n",
              "  "
            ]
          },
          "metadata": {},
          "execution_count": 6
        }
      ]
    },
    {
      "cell_type": "code",
      "source": [
        "receitas_dataset.isnull().sum()"
      ],
      "metadata": {
        "colab": {
          "base_uri": "https://localhost:8080/"
        },
        "id": "gPHE0T2ZpTim",
        "outputId": "6f1de10e-67e0-413c-f6f8-3dfeaf445939"
      },
      "execution_count": 7,
      "outputs": [
        {
          "output_type": "execute_result",
          "data": {
            "text/plain": [
              "title            0\n",
              "rating           0\n",
              "calories      4117\n",
              "protein       4162\n",
              "fat           4183\n",
              "              ... \n",
              "cookbooks        0\n",
              "leftovers        0\n",
              "snack            0\n",
              "snack week       0\n",
              "turkey           0\n",
              "Length: 680, dtype: int64"
            ]
          },
          "metadata": {},
          "execution_count": 7
        }
      ]
    },
    {
      "cell_type": "code",
      "source": [
        "#Verificar quantos dados nulos há no campo \"Sobremesa\"\n",
        "receitas_dataset['dessert'].isnull().sum()"
      ],
      "metadata": {
        "colab": {
          "base_uri": "https://localhost:8080/"
        },
        "id": "TlIxv6SMcwPp",
        "outputId": "859bc72a-0b4e-466f-a884-12d408e15a3f"
      },
      "execution_count": 8,
      "outputs": [
        {
          "output_type": "execute_result",
          "data": {
            "text/plain": [
              "0"
            ]
          },
          "metadata": {},
          "execution_count": 8
        }
      ]
    },
    {
      "cell_type": "code",
      "source": [
        "sns.set(style=\"darkgrid\")\n",
        "g = sns.scatterplot(data=receitas_dataset, x=\"calories\", y=\"dessert\")\n",
        "g.figure.set_size_inches(15, 10)"
      ],
      "metadata": {
        "id": "HAKdA97nsV3F",
        "colab": {
          "base_uri": "https://localhost:8080/",
          "height": 611
        },
        "outputId": "7cc71691-bc2f-456d-de09-ee23c3d80d5d"
      },
      "execution_count": 9,
      "outputs": [
        {
          "output_type": "display_data",
          "data": {
            "text/plain": [
              "<Figure size 1080x720 with 1 Axes>"
            ],
            "image/png": "[encoded data removed]"
          },
          "metadata": {}
        }
      ]
    },
    {
      "cell_type": "code",
      "source": [
        "#Mantendo apenas receitas com menos de 15.000 calorias\n",
        "receitas_dataset = receitas_dataset[receitas_dataset['calories'] < 15000].dropna()"
      ],
      "metadata": {
        "id": "8spKtaSrsHOR"
      },
      "execution_count": 10,
      "outputs": []
    },
    {
      "cell_type": "code",
      "source": [
        "sns.set(style=\"darkgrid\")\n",
        "g = sns.scatterplot(data=receitas_dataset, x=\"calories\", y=\"dessert\")\n",
        "g.figure.set_size_inches(15, 10)"
      ],
      "metadata": {
        "colab": {
          "base_uri": "https://localhost:8080/",
          "height": 611
        },
        "id": "oC75DTx8ruQi",
        "outputId": "624eb4f0-b426-44b9-b96d-dff284db12e2"
      },
      "execution_count": 11,
      "outputs": [
        {
          "output_type": "display_data",
          "data": {
            "text/plain": [
              "<Figure size 1080x720 with 1 Axes>"
            ],
            "image/png": "[encoded data removed]"
          },
          "metadata": {}
        }
      ]
    },
    {
      "cell_type": "code",
      "source": [
        "receitas_dataset = receitas_dataset.drop([\"title\"], axis = 1)"
      ],
      "metadata": {
        "id": "G8Z3HDcikVO7"
      },
      "execution_count": 12,
      "outputs": []
    },
    {
      "cell_type": "code",
      "source": [
        "#retirando \"sobremesa\" e mantendo apenas na variavel y \n",
        "x = receitas_dataset.drop([\"dessert\"], axis = 1)\n",
        "#target --> dessert\n",
        "y = receitas_dataset.dessert.values\n"
      ],
      "metadata": {
        "id": "KyqfsS7V5Rcg"
      },
      "execution_count": 13,
      "outputs": []
    },
    {
      "cell_type": "code",
      "source": [
        "#split de treino e teste\n",
        "x_treino, x_teste, y_treino, y_teste = train_test_split(x, y, test_size = 0.3)"
      ],
      "metadata": {
        "id": "WI33JG365hK0"
      },
      "execution_count": 14,
      "outputs": []
    },
    {
      "cell_type": "code",
      "source": [
        "#criando e treinando a regressao logistica\n",
        "regressao_logistica = LogisticRegression()\n",
        "regressao_logistica.fit(x_treino, y_treino)"
      ],
      "metadata": {
        "id": "0XhswdAs5zOm",
        "colab": {
          "base_uri": "https://localhost:8080/"
        },
        "outputId": "aaa01d5d-3709-4c63-bf2c-ac0487b82d5e"
      },
      "execution_count": 15,
      "outputs": [
        {
          "output_type": "stream",
          "name": "stderr",
          "text": [
            "/usr/local/lib/python3.7/dist-packages/sklearn/linear_model/_logistic.py:818: ConvergenceWarning: lbfgs failed to converge (status=1):\n",
            "STOP: TOTAL NO. of ITERATIONS REACHED LIMIT.\n",
            "\n",
            "Increase the number of iterations (max_iter) or scale the data as shown in:\n",
            "    https://scikit-learn.org/stable/modules/preprocessing.html\n",
            "Please also refer to the documentation for alternative solver options:\n",
            "    https://scikit-learn.org/stable/modules/linear_model.html#logistic-regression\n",
            "  extra_warning_msg=_LOGISTIC_SOLVER_CONVERGENCE_MSG,\n"
          ]
        },
        {
          "output_type": "execute_result",
          "data": {
            "text/plain": [
              "LogisticRegression()"
            ]
          },
          "metadata": {},
          "execution_count": 15
        }
      ]
    },
    {
      "cell_type": "code",
      "source": [
        "#teste de predict\n",
        "previsao = regressao_logistica.predict(x_teste)"
      ],
      "metadata": {
        "id": "xcewBWJ46BNU"
      },
      "execution_count": 16,
      "outputs": []
    },
    {
      "cell_type": "code",
      "source": [
        "#acuracia, precisao e recall\n",
        "print(\"Acuracia --> %.2f\" % (metrics.accuracy_score(y_teste, previsao)*100))\n",
        "print(\"Precisao --> %.2f\" % (metrics.precision_score(y_teste, previsao)*100))\n",
        "print(\"Recall --> %.2f\" % (metrics.recall_score(y_teste, previsao)*100))"
      ],
      "metadata": {
        "id": "en2Jd-s86HIg",
        "colab": {
          "base_uri": "https://localhost:8080/"
        },
        "outputId": "3a1a3632-b3ed-4261-e4fd-bb9fb3a7bcd2"
      },
      "execution_count": 17,
      "outputs": [
        {
          "output_type": "stream",
          "name": "stdout",
          "text": [
            "Acuracia --> 95.75\n",
            "Precisao --> 88.66\n",
            "Recall --> 89.24\n"
          ]
        }
      ]
    },
    {
      "cell_type": "code",
      "source": [
        "#matriz de confusao\n",
        "cnf_matrix = metrics.confusion_matrix(y_teste, previsao)\n",
        "fig, ax = plt.subplots()\n",
        "sns.heatmap(pd.DataFrame(cnf_matrix), annot=True, cmap=\"YlGnBu\" ,fmt='g')\n",
        "ax.xaxis.set_label_position(\"top\")\n",
        "plt.tight_layout()\n",
        "plt.title('Matriz de confusão', y=1.1)\n",
        "plt.ylabel('Atual')\n",
        "plt.xlabel('Previsão')"
      ],
      "metadata": {
        "id": "3eFpDUcl53Dx",
        "colab": {
          "base_uri": "https://localhost:8080/",
          "height": 341
        },
        "outputId": "f5db6b58-2966-4540-fd57-3a490b345ba4"
      },
      "execution_count": 18,
      "outputs": [
        {
          "output_type": "execute_result",
          "data": {
            "text/plain": [
              "Text(0.5, 257.44, 'Previsão')"
            ]
          },
          "metadata": {},
          "execution_count": 18
        },
        {
          "output_type": "display_data",
          "data": {
            "text/plain": [
              "<Figure size 432x288 with 2 Axes>"
            ],
            "image/png": "[encoded data removed]"
          },
          "metadata": {}
        }
      ]
    },
    {
      "cell_type": "code",
      "source": [
        "# Curva ROC - Receiver Operating Characteristic \n",
        "previsao_proba = regressao_logistica.predict_proba(x_teste)[::,1]\n",
        "fpr, tpr, _ = metrics.roc_curve(y_teste,  previsao_proba)\n",
        "auc = metrics.roc_auc_score(y_teste, previsao_proba)\n",
        "plt.plot(fpr,tpr,label=\"data 1, auc=\"+str(auc))\n",
        "plt.legend(loc=4)\n",
        "plt.show()"
      ],
      "metadata": {
        "id": "PbQGBa1z6RGT",
        "colab": {
          "base_uri": "https://localhost:8080/",
          "height": 268
        },
        "outputId": "094a9e41-2819-4196-ab10-e3a8972d5382"
      },
      "execution_count": 19,
      "outputs": [
        {
          "output_type": "display_data",
          "data": {
            "text/plain": [
              "<Figure size 432x288 with 1 Axes>"
            ],
            "image/png": "[encoded data removed]"
          },
          "metadata": {}
        }
      ]
    },
    {
      "cell_type": "code",
      "source": [
        "print(\"Coeficientes: \", regressao_logistica.coef_)\n",
        "print(\"Intercept:\", regressao_logistica.intercept_)"
      ],
      "metadata": {
        "id": "JSFjps_e6Sr6",
        "colab": {
          "base_uri": "https://localhost:8080/"
        },
        "outputId": "d28fc0fc-9efe-482a-ef1e-6267f99318e2"
      },
      "execution_count": 20,
      "outputs": [
        {
          "output_type": "stream",
          "name": "stdout",
          "text": [
            "Coeficientes:  [[ 2.91256738e-02  8.10664155e-03 -2.90367796e-01 -5.36278313e-02\n",
            "  -2.54450792e-03  1.61876008e-02 -2.24266429e-03 -5.33713316e-04\n",
            "  -1.05794191e-02 -1.48731270e-04 -1.11493355e-02  0.00000000e+00\n",
            "  -7.06994332e-06 -1.33185035e+00  5.58258426e-01  5.66682325e-02\n",
            "  -1.37047305e-02  2.36904387e-02  3.30263116e-03 -4.68774160e-06\n",
            "  -2.00339982e-02 -8.45634822e-01 -2.19416433e-02  4.97436524e-03\n",
            "   1.40767264e-01 -1.77153704e-03 -3.60478293e-02 -9.72353135e-02\n",
            "   1.38923968e-03 -6.91863905e-02  0.00000000e+00 -8.66024404e-04\n",
            "  -5.71940360e-03 -1.31847520e-01  4.79300532e-02 -2.63041432e-01\n",
            "  -1.18794720e-01  2.10938200e+00  1.15519630e-01 -1.65290767e-02\n",
            "  -1.96276673e-01 -2.54494356e-03  7.12540875e-04 -1.05400694e-01\n",
            "  -6.78943775e-02 -1.08294392e-03 -9.83118969e-04 -2.72171527e-03\n",
            "  -1.61707245e-02 -1.21901288e-01 -2.93141720e-01  5.15100145e-01\n",
            "   0.00000000e+00  2.38040676e-01 -4.06146527e-03 -1.90146730e-01\n",
            "   2.18135074e-01 -1.13991030e-01 -1.02308786e-01  1.68601747e-01\n",
            "  -2.04580806e-01 -1.00580405e-02 -2.51686718e-01  1.06975397e-03\n",
            "  -2.75583457e-03  1.43484845e-04 -5.25027478e-02 -1.48890782e-02\n",
            "  -1.18858005e-01 -5.21480733e-01 -1.27654290e-02 -5.35113526e-01\n",
            "  -2.03687597e-03 -2.00874035e-03 -1.64450932e-03 -2.02934161e-02\n",
            "  -1.56273547e-02 -4.16846097e-02  4.17392892e-03 -1.74230570e-02\n",
            "   9.15783244e-03 -4.97898166e-01 -2.83670762e-02 -1.53648212e-08\n",
            "  -3.68777909e-02 -1.47710100e-04 -1.83429261e-02 -6.03678033e-05\n",
            "  -1.35388132e-02 -2.30902982e-02 -1.34994982e-01  2.39777388e-02\n",
            "  -1.50559850e-01  1.23878246e+00 -6.71981658e-03 -1.78977183e-02\n",
            "   7.66771327e-03 -2.46895029e-02  0.00000000e+00  3.23344272e-03\n",
            "   1.28044756e-01  2.99033182e-02  3.85547922e-02 -6.63553813e-02\n",
            "  -1.12805570e-02 -2.25269843e-02 -2.71454094e-01  1.17808156e-03\n",
            "  -9.62879240e-02 -4.80261354e-02  0.00000000e+00 -1.49579091e-01\n",
            "  -2.21676938e-02 -1.74609142e-01 -2.05284023e-02 -3.63158407e-02\n",
            "  -8.12427393e-02 -2.08909112e-01  2.17334970e-01 -7.49862565e-03\n",
            "  -3.20750919e-03 -1.45777834e-01 -4.28838040e-02 -1.12078786e-02\n",
            "  -1.08864925e-01 -4.52614578e-06  7.32608517e-01 -1.65001604e-01\n",
            "   1.47131672e+00  2.59986336e-03 -1.25478525e-01 -2.30854626e-01\n",
            "  -1.10133624e-01  6.26502893e-02  1.30193479e-01 -1.50376481e-02\n",
            "  -9.50718759e-02  2.26204581e-02 -6.21446873e-01 -1.29207485e+00\n",
            "   2.44934614e-01 -1.05910514e-02  2.34158468e-01 -1.56507955e-02\n",
            "   9.68545756e-03 -7.82919434e-03 -6.88621995e-03  3.78880166e-03\n",
            "  -3.27459718e-02 -8.69437966e-01  1.20066181e-04 -9.28081323e-04\n",
            "   1.89369351e-03 -1.92290040e-02  3.75978753e-01 -5.66098871e-02\n",
            "  -1.89362777e-01 -2.26320783e-01 -1.11319056e-05  1.05571273e-03\n",
            "  -3.73197420e-02 -4.37492246e-02 -1.96254694e-01 -4.27625861e-03\n",
            "   4.96761062e-01 -4.78053948e-02 -2.41158857e-03  4.45614427e-03\n",
            "  -2.49267125e-03 -1.76239966e-01 -2.86048411e-02  0.00000000e+00\n",
            "  -3.80866512e-02 -9.06127303e-02  1.42647601e-02  8.51432990e-01\n",
            "  -8.39654774e-01  4.11801626e-03  6.47199011e-02 -3.78984776e-02\n",
            "  -1.63598087e-03  7.37771462e-04 -1.32729703e-01 -5.48281069e-01\n",
            "  -8.67043478e-03  3.32272243e-03 -1.10060045e-04 -7.15608447e-03\n",
            "   5.82263476e-02  3.76547411e-02 -1.68966533e+00 -1.41206020e-02\n",
            "  -3.31515426e-02  2.89235601e-02  6.46409995e-03 -4.77660826e-02\n",
            "   1.12475442e+00 -9.73917626e-03 -1.10981846e-01  0.00000000e+00\n",
            "  -6.99025856e-06 -7.33766441e-02 -5.93082375e-02 -7.13922711e-05\n",
            "  -3.35719216e-03 -2.25088136e-03  0.00000000e+00 -2.02436142e-02\n",
            "  -1.66554599e-01  6.17711012e-03  1.07308592e-01 -7.00832494e-02\n",
            "  -1.40183615e-01 -8.91914286e-02  7.03605722e-02 -1.53134308e-01\n",
            "  -4.10341715e-03  0.00000000e+00  6.24474704e-03 -6.62708574e-03\n",
            "   1.77680287e-01 -5.81339835e-02  2.98812354e-02  8.23158187e-03\n",
            "   2.20188312e-02  0.00000000e+00  7.15973242e-01 -8.44331965e-06\n",
            "   1.06244533e-02  0.00000000e+00 -1.91142210e-03  5.67046166e-01\n",
            "   1.12692645e+00 -5.05714232e-01 -2.06298690e-01 -2.10574695e-03\n",
            "  -6.08316861e-01 -8.18401552e-03 -7.64626581e-04 -4.16758162e-01\n",
            "   2.15708348e-03 -1.36642200e-01 -7.34698178e-03 -2.07386446e-03\n",
            "  -5.08064563e-01 -2.02566879e-02 -1.98377573e-03  0.00000000e+00\n",
            "  -7.57078526e-03  3.65717605e-02 -4.02246610e-02  1.12943833e-02\n",
            "  -1.11601413e-01 -5.24343018e-02 -7.90794846e-02 -1.96662204e-01\n",
            "  -4.35575023e-03 -1.14318450e-02 -9.97125563e-06 -1.76658715e-02\n",
            "  -3.33886030e-04 -6.45989550e-03 -1.86082295e-03 -2.48460372e-02\n",
            "  -1.12839760e-04 -8.90725324e-02 -1.33594315e-02 -2.09818771e-05\n",
            "   1.82888241e-01  0.00000000e+00 -5.82782639e-01 -5.87016224e-01\n",
            "  -2.50648251e-01 -5.15914996e-05 -5.04933487e-02  9.24931647e-02\n",
            "   4.49085135e-02 -8.94453784e-03 -7.12463750e-02 -3.09923115e-02\n",
            "  -1.80542652e-01 -4.99845646e-01 -2.50720039e-02 -2.26405909e-07\n",
            "  -3.20523681e-04  1.06375785e-02  3.20762233e-01  3.70819385e-03\n",
            "  -3.77767255e-02  0.00000000e+00 -8.06702930e-03 -1.09533380e-03\n",
            "   0.00000000e+00  2.75985210e-03 -4.41544459e-04  2.72754171e-03\n",
            "  -1.93966512e-01  1.21225492e-01  0.00000000e+00 -2.84249221e-04\n",
            "  -1.59691213e-02 -7.78266475e-03 -1.79781475e-02  6.80074940e-02\n",
            "  -2.86811175e-02 -6.16295341e-06  3.53117741e-03  4.85609150e-03\n",
            "   4.61766133e-03  4.96240463e-01  1.36344130e+00  1.64867177e-03\n",
            "   0.00000000e+00  7.20325476e-02  7.72925350e-01 -7.05302802e-03\n",
            "  -3.83022375e-02  3.38499347e-03 -1.33323896e-02 -3.84538247e-02\n",
            "  -1.31427084e-02 -2.02682311e-04 -2.51610042e-05  0.00000000e+00\n",
            "  -3.55130900e-05 -3.42536343e-01 -1.24389235e-01 -2.77227708e-02\n",
            "  -5.92176557e-02 -9.81433503e-02 -2.13500194e-02 -2.39762104e-02\n",
            "  -7.80237364e-02 -1.90890055e-02 -4.28045902e-02 -8.56095318e-02\n",
            "   3.61896135e-03 -1.20222313e-01 -3.23462089e-03 -7.13922711e-05\n",
            "   3.19883592e-03 -2.09846929e-03 -4.06163774e-05  4.85609150e-03\n",
            "  -2.89424391e-01 -7.95898142e-02 -1.94600783e-01 -1.08044742e-01\n",
            "   1.94714190e-02 -2.90980960e-02 -1.37943256e-01  4.53019552e-03\n",
            "  -3.81105591e-01  1.68417666e-02  3.27020514e-02 -1.75071234e-04\n",
            "   6.33112624e-03 -9.87896716e-05  4.73151524e-02 -5.22773493e-03\n",
            "  -2.12017775e-02 -3.34875871e-02 -2.49267125e-03 -1.05622824e-01\n",
            "   3.37936966e-02  3.84209887e-03 -4.68757400e-03 -4.34840564e-03\n",
            "   7.71685064e-03  2.45183868e-03 -2.02427550e-01 -2.50233645e-02\n",
            "  -1.08550251e-03 -6.82602668e-05  4.29604363e-02 -4.52862548e-03\n",
            "  -8.61969235e-03 -8.91922997e-04  9.27196921e-03 -7.24368592e-03\n",
            "   1.84334603e-02  9.93522888e-01 -6.86755574e-04 -7.69072071e-03\n",
            "  -2.71624706e-01  0.00000000e+00  6.45900120e-03  8.41330072e-01\n",
            "   6.79101183e-02 -5.07655871e-03 -1.53660389e-08 -1.27649496e-02\n",
            "  -3.52863724e-02 -5.05741399e-03 -2.56553896e-01 -8.32199529e-03\n",
            "  -2.55483856e-01 -1.00501619e-02 -1.97944820e-03  8.46546752e-03\n",
            "   5.48140761e-02  0.00000000e+00 -1.24955202e-02  2.21380284e-02\n",
            "   0.00000000e+00 -2.88117388e-02 -9.09533649e-02 -4.59458124e-03\n",
            "  -1.02471408e-03 -1.51433020e+00 -2.93762145e-01 -2.63102451e-01\n",
            "  -1.55061687e-02  5.95172791e-04  5.17132006e-01 -5.48612767e-02\n",
            "   6.34516629e-03  7.07892993e-03 -9.76837861e-05  7.94858256e-03\n",
            "   6.99562548e-03 -1.05066823e-02 -8.44831639e-03 -2.27163727e-01\n",
            "  -1.86446993e-03 -1.20884553e-03 -9.45678829e-01 -4.03040272e-02\n",
            "  -5.14943432e-02 -3.29054814e-02 -1.28718634e-02 -4.79665943e-03\n",
            "  -6.51785433e-05 -2.66542664e-02 -1.68538016e-02  0.00000000e+00\n",
            "  -3.36018779e-01 -7.98745533e-02 -5.91485104e-03  1.44976462e-02\n",
            "  -1.90531134e-02  5.58883977e-03  1.82251128e-03 -1.75708044e-01\n",
            "  -2.33639836e-01 -1.06211481e-01 -1.81571045e-01 -8.52912575e-04\n",
            "   2.82588773e-02  2.62127613e-02 -2.29017393e-01 -5.52503911e-03\n",
            "   6.40730900e-02 -7.82833130e-02  1.32320424e-01  7.16256897e-02\n",
            "   3.79948343e-02  7.37266512e-01  1.58614840e-01  1.99292551e-01\n",
            "   1.01654030e-02 -2.25903696e-01 -2.60244489e-02 -1.47052290e-03\n",
            "  -5.10864142e-03 -6.34200250e-06  8.11540456e-01 -9.75777501e-04\n",
            "   3.78542099e-02 -6.38310842e-03 -1.17553428e-01  1.91637446e-02\n",
            "  -7.24671936e-02  3.40224193e-02  2.00914206e-01  4.37442881e-03\n",
            "  -1.25684349e-03 -2.72543804e-02  9.33714323e-02  5.23112846e-02\n",
            "  -3.82934998e-03 -5.63194015e-02 -8.46356303e-03 -5.76778125e-03\n",
            "  -4.07690722e-02 -1.20606089e-01 -3.53633603e-03 -1.30824953e-03\n",
            "  -1.63964583e-02 -5.19839124e-02 -1.64665478e-02 -1.72960489e-06\n",
            "  -6.26078932e-01  0.00000000e+00  8.35405765e-03 -8.83038388e-02\n",
            "  -1.06961411e-03 -3.90669427e-03 -1.68927072e-02  5.74541450e-03\n",
            "   6.71807011e-02  9.16978791e-02 -1.56502985e-01  1.58817112e-03\n",
            "  -1.32036828e-03  0.00000000e+00 -1.16044962e+00 -2.55555186e-02\n",
            "  -1.53202585e-02 -2.15386630e-02 -5.07728845e-05 -8.54750195e-04\n",
            "  -1.13757944e-02 -1.24072230e-01  2.35799802e-02  1.09659157e-02\n",
            "   4.92635382e-02  3.96036268e-01 -1.74121672e-02  7.67861044e-03\n",
            "   6.58464185e-03  7.45933175e-02 -1.78563992e-01  5.36633928e-02\n",
            "  -3.39407440e-01 -1.12791225e-01 -1.06586569e-01  1.35964220e-02\n",
            "   0.00000000e+00 -1.71345180e-05 -4.73256863e-02 -2.76377037e-02\n",
            "  -3.63626660e-02 -2.20791741e-02 -8.97760018e-02 -4.80472320e-03\n",
            "  -7.26648868e-01 -1.33856480e-01 -7.04327112e-02 -1.24881038e-03\n",
            "  -1.11574653e-03 -5.66459091e-02 -5.66580638e-04 -2.84076091e-02\n",
            "  -5.47304584e-03 -8.73983846e-06 -4.59647030e-01 -3.87354635e-02\n",
            "  -5.62817784e-01 -1.14032479e-02 -2.95435202e-02 -4.34462550e-02\n",
            "  -1.19368465e-02 -7.91379618e-02 -9.21707319e-03 -4.36058815e-03\n",
            "  -3.46348072e-02 -1.39584491e-02 -1.94501995e-01  4.37647855e-02\n",
            "  -9.96754177e-02  3.31959492e-02 -1.32336019e-01 -6.06731719e-02\n",
            "  -2.53302513e+00 -1.93839996e-01 -2.42936292e-03 -6.58683173e-03\n",
            "  -7.21221524e-05 -2.53726801e-02 -2.35274067e-03  2.12319092e-03\n",
            "   1.23626708e-02 -3.56148610e-01 -3.72217674e-04  0.00000000e+00\n",
            "   5.96252979e-03 -1.05273349e-02  7.34257473e-01 -4.27701593e-02\n",
            "   0.00000000e+00 -7.10341244e-02 -6.71483083e-02 -1.11520700e-01\n",
            "  -3.51388481e-01  3.01391766e-02 -1.09618729e-02 -1.09284955e-01\n",
            "  -9.20634618e-03  3.80528617e-03 -2.37418251e-02 -1.13622097e-02\n",
            "  -1.11025760e-01 -1.98663911e-02 -4.37109992e-02 -2.51590238e-03\n",
            "   3.96216558e-01 -6.94060369e-02 -1.26402161e+00 -3.92347053e-02\n",
            "  -3.30942218e-04  6.95289958e-02 -7.10259845e-02  0.00000000e+00\n",
            "  -2.41274333e-01 -3.03763893e-02 -1.22711783e-03 -1.85557590e-04\n",
            "  -2.06806621e-04 -1.63532765e-02 -9.40146909e-03 -6.82269194e-03\n",
            "   8.57256879e-03 -8.10909184e-02  6.99783035e-03 -6.33864890e-02\n",
            "  -3.12202806e-05 -9.71516951e-02  0.00000000e+00 -3.69191775e-04\n",
            "  -3.09700445e-01 -1.63138993e-01 -8.60084432e-04 -1.46227167e-02\n",
            "  -4.32212877e-02 -6.70456599e-01 -2.76584040e-02  1.18291988e-02\n",
            "  -1.33056822e-01 -8.62330832e-02 -2.41103783e-02 -3.87377779e-03\n",
            "  -1.33196722e-02 -6.06929911e-02 -1.54919098e-05  1.48765147e-01\n",
            "   3.71996864e-01 -1.58573727e-02 -7.30792716e-01 -9.04112491e-01\n",
            "   2.04793772e-01 -1.55197944e-04 -9.72127176e-04 -2.28650724e-02\n",
            "  -3.55161858e-01 -9.14015648e-03 -1.56319418e-01  0.00000000e+00\n",
            "   1.20710769e-01 -1.44064507e-02 -1.22367156e-02 -5.83181326e-03\n",
            "  -6.12972477e-02  1.67635811e-02  3.36275370e-02 -1.24235880e-02\n",
            "  -3.96065790e-03 -1.87235577e-05 -5.09861672e-01 -4.12048593e-02\n",
            "  -7.48008105e-02 -2.11753274e-02 -1.01801174e-02 -1.53648268e-08\n",
            "  -1.08500433e-01 -9.41506241e-02 -7.84750340e-03 -1.29660488e-02\n",
            "  -2.69566406e-02  5.01809541e-02 -4.65637022e-03 -2.12232914e-03\n",
            "  -1.23808670e-01 -2.75455360e-05 -1.43699675e-03 -1.94745332e-04\n",
            "   1.01281280e-02 -4.15264083e-02]]\n",
            "Intercept: [-2.01198975]\n"
          ]
        }
      ]
    }
  ]
}